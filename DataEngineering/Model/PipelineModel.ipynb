{
 "cells": [
  {
   "cell_type": "code",
   "execution_count": null,
   "id": "c70fdfcd-1348-40a5-8bf1-b785d3487a2b",
   "metadata": {},
   "outputs": [],
   "source": [
    "import pandas as pd\n",
    "import numpy as np\n",
    "import time\n",
    "import matplotlib.pyplot as plt\n",
    "from sklearn.preprocessing import OneHotEncoder, TargetEncoder\n",
    "from sklearn.compose import ColumnTransformer\n",
    "from sklearn.base import BaseEstimator, TransformerMixin\n",
    "from sklearn.model_selection import train_test_split, GridSearchCV\n",
    "from sklearn.ensemble import RandomForestRegressor\n",
    "from joblib import dump, load\n",
    "from sklearn.pipeline import Pipeline\n",
    "from Joblib.preprocessor import RestoreColumnNames\n",
    "from Joblib.preprocessor import FeatureEngineering\n",
    "\n",
    "df = pd.read_csv(\"../Data/cleaned_house_data.csv\")\n",
    "df = df.drop(\"Unnamed: 0\", axis=1)\n",
    "\n",
    "X = df.drop(columns=[\"price\"])  # Features\n",
    "y = df[\"price\"]                 # Target\n",
    "\n",
    "# Train-test split\n",
    "X_train, X_test, y_train, y_test = train_test_split(\n",
    "    X, y, test_size=0.2, random_state=42\n",
    ")\n",
    "\n",
    "# Log-transform target for training\n",
    "y_train_logged = np.log1p(y_train)\n",
    "y_test_logged = np.log1p(y_test)\n",
    "\n",
    "\n",
    "\n",
    "\n",
    "# 2. Preprocessing\n",
    "state_and_town_feat = [\"state\", \"town\"]\n",
    "title_feat = [\"title\"]\n",
    "\n",
    "one_hot = OneHotEncoder(handle_unknown='ignore', sparse_output=False, drop='first')\n",
    "t_encoder = TargetEncoder(target_type='continuous', cv=5)\n",
    "\n",
    "preprocessor = ColumnTransformer(\n",
    "    [(\"One_hot\", one_hot, state_and_town_feat),\n",
    "     (\"T_Encoder\", t_encoder, title_feat)],\n",
    "    remainder=\"passthrough\"\n",
    ")\n",
    "\n",
    "# Get column names after fitting\n",
    "preprocessor.fit(X_train,y_train_logged )\n",
    "final_columns = (\n",
    "    preprocessor.named_transformers_[\"One_hot\"].get_feature_names_out(state_and_town_feat).tolist()\n",
    "    + title_feat\n",
    "    + [col for col in preprocessor.feature_names_in_ if col not in state_and_town_feat + title_feat]\n",
    ")\n",
    "\n",
    "# Wrapped in RestoreColumnNames\n",
    "named_preprocessor = RestoreColumnNames(preprocessor, final_columns)\n",
    "\n",
    "# Wrap FeatureEnfineering in a variable\n",
    "feature_engineering = FeatureEngineering()\n",
    "\n",
    "# 3. Pipeline (Preprocessing + Feature Engineering + Model)\n",
    "model = RandomForestRegressor(\n",
    "    n_estimators=400,\n",
    "    max_depth=100,\n",
    "    min_samples_split= 2,\n",
    "    min_samples_leaf=2,\n",
    "    max_leaf_nodes = None,\n",
    "    random_state=42\n",
    ")\n",
    "\n",
    "pipeline = Pipeline([\n",
    "    (\"preprocessor\", named_preprocessor),\n",
    "    (\"feature_engineering\", feature_engineering),\n",
    "    (\"model\", model)\n",
    "])\n",
    "\n",
    "# 4. Fit\n",
    "y_train_logged = np.log1p(y_train)  # log target\n",
    "pipeline.fit(X_train, y_train_logged)\n",
    "\n",
    "pipeline.score()\n",
    "\n",
    "# 5. Save\n",
    "\n",
    "    "
   ]
  },
  {
   "cell_type": "code",
   "execution_count": null,
   "id": "a1028e1d-e4a0-4389-956a-94a56e4309ed",
   "metadata": {},
   "outputs": [
    {
     "data": {
      "text/plain": [
       "['house_price_pipeline.joblib']"
      ]
     },
     "execution_count": 2,
     "metadata": {},
     "output_type": "execute_result"
    }
   ],
   "source": [
    "dump(pipeline, \"../Joblib/house_price_pipeline.joblib\")"
   ]
  },
  {
   "cell_type": "code",
   "execution_count": 1,
   "id": "37533603-9a62-4101-bdd7-278c74521859",
   "metadata": {},
   "outputs": [],
   "source": [
    "def HousePrediction(df, filename, log_target=True):\n",
    "    \"\"\"\n",
    "    Predict house prices from given dataframe using a saved pipeline.\n",
    "    \n",
    "    df : pandas DataFrame with same columns as training data.\n",
    "    filename : Path to saved joblib pipeline.\n",
    "    log_target : If True, model was trained on log1p target.\n",
    "    \"\"\"\n",
    "    # Load pipeline (preprocessing + feature engineering + model)\n",
    "    pipeline = load(filename)\n",
    "    \n",
    "    # Predict\n",
    "    y_pred = pipeline.predict(df)\n",
    "    \n",
    "    # Unlog if model was trained on log values\n",
    "    if log_target:\n",
    "        y_pred = np.expm1(y_pred)\n",
    "    \n",
    "    return f\"The Annual estimatated price in Naira is ₦{y_pred[0]:.1f}\""
   ]
  },
  {
   "cell_type": "code",
   "execution_count": 10,
   "id": "6aff4579-4a61-422d-86ae-2dd1124802e9",
   "metadata": {},
   "outputs": [
    {
     "data": {
      "text/html": [
       "<div>\n",
       "<style scoped>\n",
       "    .dataframe tbody tr th:only-of-type {\n",
       "        vertical-align: middle;\n",
       "    }\n",
       "\n",
       "    .dataframe tbody tr th {\n",
       "        vertical-align: top;\n",
       "    }\n",
       "\n",
       "    .dataframe thead th {\n",
       "        text-align: right;\n",
       "    }\n",
       "</style>\n",
       "<table border=\"1\" class=\"dataframe\">\n",
       "  <thead>\n",
       "    <tr style=\"text-align: right;\">\n",
       "      <th></th>\n",
       "      <th>bedroom</th>\n",
       "      <th>parking_lot</th>\n",
       "      <th>bathroom</th>\n",
       "      <th>toilets</th>\n",
       "      <th>town</th>\n",
       "      <th>state</th>\n",
       "      <th>serviced</th>\n",
       "      <th>extras</th>\n",
       "      <th>Stable Electricity</th>\n",
       "      <th>title</th>\n",
       "    </tr>\n",
       "  </thead>\n",
       "  <tbody>\n",
       "    <tr>\n",
       "      <th>0</th>\n",
       "      <td>3</td>\n",
       "      <td>0</td>\n",
       "      <td>2</td>\n",
       "      <td>3</td>\n",
       "      <td>Victoria Island</td>\n",
       "      <td>Lagos</td>\n",
       "      <td>0</td>\n",
       "      <td>4</td>\n",
       "      <td>1</td>\n",
       "      <td>flat apartment</td>\n",
       "    </tr>\n",
       "  </tbody>\n",
       "</table>\n",
       "</div>"
      ],
      "text/plain": [
       "   bedroom  parking_lot  bathroom  toilets             town  state  serviced  \\\n",
       "0        3            0         2        3  Victoria Island  Lagos         0   \n",
       "\n",
       "   extras  Stable Electricity           title  \n",
       "0       4                   1  flat apartment  "
      ]
     },
     "execution_count": 10,
     "metadata": {},
     "output_type": "execute_result"
    }
   ],
   "source": [
    "import pandas as pd\n",
    "import numpy as np\n",
    "from joblib import dump, load\n",
    "data = {\n",
    "    \"bedroom\" : [3],\n",
    "    \"parking_lot\" : [0],\n",
    "    \"bathroom\" : [2], \n",
    "    \"toilets\" : [3],\n",
    "    \"town\" : [\"Victoria Island\"],\n",
    "    \"state\" : [\"Lagos\"],\n",
    "    \"serviced\" : [0],\n",
    "    \"extras\" : [4],\n",
    "    \"Stable Electricity\" : [1],\n",
    "    \"title\" : [\"flat apartment\"],\n",
    "}\n",
    "df_predict = pd.DataFrame(data)\n",
    "df_predict"
   ]
  },
  {
   "cell_type": "code",
   "execution_count": null,
   "id": "465fd81a-65c6-481c-817e-b3829bc69a64",
   "metadata": {},
   "outputs": [
    {
     "data": {
      "text/plain": [
       "'The Annual estimatated price in Naira is ₦16339566.8'"
      ]
     },
     "execution_count": 11,
     "metadata": {},
     "output_type": "execute_result"
    }
   ],
   "source": [
    "HousePrediction(df_predict, \"../Joblib/house_price_pipeline.joblib\")"
   ]
  },
  {
   "cell_type": "code",
   "execution_count": null,
   "id": "a837876f",
   "metadata": {},
   "outputs": [],
   "source": []
  },
  {
   "cell_type": "code",
   "execution_count": 47,
   "id": "91aacf75-3006-40d5-8940-bb370aff7cdf",
   "metadata": {},
   "outputs": [
    {
     "data": {
      "text/html": [
       "<div>\n",
       "<style scoped>\n",
       "    .dataframe tbody tr th:only-of-type {\n",
       "        vertical-align: middle;\n",
       "    }\n",
       "\n",
       "    .dataframe tbody tr th {\n",
       "        vertical-align: top;\n",
       "    }\n",
       "\n",
       "    .dataframe thead th {\n",
       "        text-align: right;\n",
       "    }\n",
       "</style>\n",
       "<table border=\"1\" class=\"dataframe\">\n",
       "  <thead>\n",
       "    <tr style=\"text-align: right;\">\n",
       "      <th></th>\n",
       "      <th>bedroom</th>\n",
       "      <th>parking_lot</th>\n",
       "      <th>bathroom</th>\n",
       "      <th>toilets</th>\n",
       "      <th>town</th>\n",
       "      <th>state</th>\n",
       "      <th>serviced</th>\n",
       "      <th>extras</th>\n",
       "      <th>Stable Electricity</th>\n",
       "      <th>title</th>\n",
       "    </tr>\n",
       "  </thead>\n",
       "  <tbody>\n",
       "    <tr>\n",
       "      <th>0</th>\n",
       "      <td>1</td>\n",
       "      <td>0</td>\n",
       "      <td>1</td>\n",
       "      <td>1</td>\n",
       "      <td>Ojodu</td>\n",
       "      <td>Ogun</td>\n",
       "      <td>0</td>\n",
       "      <td>1</td>\n",
       "      <td>0</td>\n",
       "      <td>flat apartment</td>\n",
       "    </tr>\n",
       "  </tbody>\n",
       "</table>\n",
       "</div>"
      ],
      "text/plain": [
       "   bedroom  parking_lot  bathroom  toilets   town state  serviced  extras  \\\n",
       "0        1            0         1        1  Ojodu  Ogun         0       1   \n",
       "\n",
       "   Stable Electricity           title  \n",
       "0                   0  flat apartment  "
      ]
     },
     "execution_count": 47,
     "metadata": {},
     "output_type": "execute_result"
    }
   ],
   "source": []
  },
  {
   "cell_type": "code",
   "execution_count": null,
   "id": "8c7c9bdc-80b4-4ee9-a454-13203dfa4bd3",
   "metadata": {},
   "outputs": [],
   "source": []
  }
 ],
 "metadata": {
  "kernelspec": {
   "display_name": "Python 3 (ipykernel)",
   "language": "python",
   "name": "python3"
  },
  "language_info": {
   "codemirror_mode": {
    "name": "ipython",
    "version": 3
   },
   "file_extension": ".py",
   "mimetype": "text/x-python",
   "name": "python",
   "nbconvert_exporter": "python",
   "pygments_lexer": "ipython3",
   "version": "3.13.4"
  }
 },
 "nbformat": 4,
 "nbformat_minor": 5
}
